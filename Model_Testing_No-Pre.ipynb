{
 "cells": [
  {
   "cell_type": "markdown",
   "metadata": {},
   "source": [
    "## **ECE 4782 Machine Learning Model - EEG/ECG Data**"
   ]
  },
  {
   "cell_type": "markdown",
   "metadata": {},
   "source": [
    "### **Import libraries and preprocessed data**"
   ]
  },
  {
   "cell_type": "code",
   "execution_count": 3,
   "metadata": {},
   "outputs": [
    {
     "data": {
      "text/plain": [
       "23"
      ]
     },
     "execution_count": 3,
     "metadata": {},
     "output_type": "execute_result"
    }
   ],
   "source": [
    "import pandas as pd\n",
    "import numpy as np\n",
    "import matplotlib.pyplot as plt\n",
    "from sklearn.model_selection import train_test_split\n",
    "from sklearn.ensemble import RandomForestClassifier\n",
    "from sklearn.cluster import KMeans\n",
    "from sklearn.svm import SVC\n",
    "from sklearn.metrics import accuracy_score, confusion_matrix\n",
    "\n",
    "# Read csv\n",
    "patient_data = pd.read_csv('BMED4783_eegFeatures_noPreProc.csv')\n",
    "\n",
    "# Dropping Empty Rows\n",
    "patient_data = patient_data.drop(range(23,600))\n",
    "\n",
    "# Drop useless columns\n",
    "patient_data = patient_data.drop(['Age','Male', 'Female', 'Patient Number', 'Other', 'ROSC', 'OHCA', 'VFIB', 'TTM', 'Hospital', 'Num Trials'], axis=1)\n",
    "\n",
    "# Get CPC Scores\n",
    "cpc_data = patient_data.get(['CPC'])\n",
    "for i in range(len(cpc_data)):\n",
    "    continue\n",
    "\n",
    "# Drop CPC from training data set\n",
    "training_data = patient_data.drop(['CPC'],axis=1)\n",
    "\n",
    "len(cpc_data)"
   ]
  },
  {
   "cell_type": "markdown",
   "metadata": {},
   "source": [
    "### **Variance Testing**"
   ]
  },
  {
   "cell_type": "markdown",
   "metadata": {},
   "source": [
    "**Function to find features with highest variance**"
   ]
  },
  {
   "cell_type": "code",
   "execution_count": 3,
   "metadata": {},
   "outputs": [],
   "source": [
    "def find_highest_variance_features(data):\n",
    "    variances = data.var(axis=0)\n",
    "    sorted_variances_indices = np.argsort(variances)[::-1]\n",
    "    return sorted_variances_indices"
   ]
  },
  {
   "cell_type": "code",
   "execution_count": 4,
   "metadata": {},
   "outputs": [
    {
     "data": {
      "text/plain": [
       "Theta Slope    6\n",
       "Delta Slope    2\n",
       "Beta Slope     5\n",
       "Alpha Slope    7\n",
       "Theta STD      3\n",
       "dtype: int64"
      ]
     },
     "execution_count": 4,
     "metadata": {},
     "output_type": "execute_result"
    }
   ],
   "source": [
    "highest_variance_indices = find_highest_variance_features(training_data)\n",
    "highest_variance_indices.head()"
   ]
  },
  {
   "cell_type": "markdown",
   "metadata": {},
   "source": [
    "### **Split data into training/testing sets (80/20 Split)**"
   ]
  },
  {
   "cell_type": "code",
   "execution_count": 5,
   "metadata": {},
   "outputs": [],
   "source": [
    "X_train, X_test, y_train, y_test = train_test_split(training_data, cpc_data, test_size=0.3, random_state=42)"
   ]
  },
  {
   "cell_type": "markdown",
   "metadata": {},
   "source": [
    "### **Random Forest**"
   ]
  },
  {
   "cell_type": "code",
   "execution_count": 6,
   "metadata": {},
   "outputs": [
    {
     "name": "stdout",
     "output_type": "stream",
     "text": [
      "Random Forest Accuracy: 0.7142857142857143\n",
      "Beta Slope: 0.10727359187492447\n",
      "Beta STD: 0.10154407179376729\n",
      "Alpha Slope: 0.10095253466992712\n",
      "Beta Avg Pow: 0.09866926649342965\n",
      "Avg Alpha Pow: 0.08861598761633907\n",
      "Delta Slope: 0.0884085222067854\n",
      "Theta STD: 0.07623820710994791\n",
      "Alpha STD: 0.07569701919659427\n",
      "Delta STD: 0.07148513799811063\n",
      "Theta Slope: 0.06831483793166401\n",
      "Delta Avg Pow: 0.0630945581776902\n",
      "Theta Avg Pow: 0.05970626493081999\n",
      "[1. 5. 1. 1. 5. 1. 1.]\n",
      "    CPC\n",
      "15  2.0\n",
      "9   1.0\n",
      "0   1.0\n",
      "8   1.0\n",
      "17  5.0\n",
      "12  1.0\n",
      "1   1.0\n"
     ]
    }
   ],
   "source": [
    "rf_model = RandomForestClassifier(n_estimators=100, random_state=42)\n",
    "rf_model.fit(X_train, y_train.values.ravel())\n",
    "rf_predictions = rf_model.predict(X_test)\n",
    "rf_accuracy = accuracy_score(y_test, rf_predictions)\n",
    "print(\"Random Forest Accuracy:\", rf_accuracy)\n",
    "\n",
    "importances = rf_model.feature_importances_\n",
    "feature_names = list(X_train.columns)\n",
    "feature_importances = dict(zip(training_data.columns, importances))\n",
    "sorted_features = sorted(feature_importances.items(), key=lambda x: x[1], reverse=True)\n",
    "\n",
    "# Printing the features with highest importances\n",
    "for feature, importance in sorted_features:\n",
    "    print(f\"{feature}: {importance}\")\n",
    "\n",
    "print(rf_predictions)\n",
    "print(y_test)"
   ]
  },
  {
   "cell_type": "markdown",
   "metadata": {},
   "source": [
    "### **K-Means**"
   ]
  },
  {
   "cell_type": "code",
   "execution_count": 7,
   "metadata": {},
   "outputs": [
    {
     "name": "stdout",
     "output_type": "stream",
     "text": [
      "    CPC\n",
      "15  2.0\n",
      "9   1.0\n",
      "0   1.0\n",
      "8   1.0\n",
      "17  5.0\n",
      "12  1.0\n",
      "1   1.0\n"
     ]
    },
    {
     "name": "stderr",
     "output_type": "stream",
     "text": [
      "/home/mani/.local/lib/python3.10/site-packages/sklearn/cluster/_kmeans.py:1416: FutureWarning: The default value of `n_init` will change from 10 to 'auto' in 1.4. Set the value of `n_init` explicitly to suppress the warning\n",
      "  super()._check_params_vs_input(X, default_n_init=10)\n"
     ]
    },
    {
     "data": {
      "text/plain": [
       "array([3, 0, 3, 3, 0, 4, 0], dtype=int32)"
      ]
     },
     "execution_count": 7,
     "metadata": {},
     "output_type": "execute_result"
    }
   ],
   "source": [
    "kmeans_model = KMeans(n_clusters=5, random_state=42)\n",
    "kmeans_model.fit(X_train)\n",
    "kmeans_predictions = kmeans_model.predict(X_test)\n",
    "\n",
    "# print(X_test)\n",
    "print(y_test)\n",
    "kmeans_predictions"
   ]
  },
  {
   "cell_type": "markdown",
   "metadata": {},
   "source": [
    "### **Support Vector Machines**"
   ]
  },
  {
   "cell_type": "code",
   "execution_count": 8,
   "metadata": {},
   "outputs": [
    {
     "name": "stdout",
     "output_type": "stream",
     "text": [
      "SVM Accuracy: 0.5714285714285714\n"
     ]
    }
   ],
   "source": [
    "svm_model = SVC(kernel='linear', random_state=42)\n",
    "svm_model.fit(X_train, y_train.values.ravel())\n",
    "svm_predictions = svm_model.predict(X_test)\n",
    "svm_accuracy = accuracy_score(y_test, svm_predictions)\n",
    "print(\"SVM Accuracy:\", svm_accuracy)"
   ]
  }
 ],
 "metadata": {
  "kernelspec": {
   "display_name": "Python 3",
   "language": "python",
   "name": "python3"
  },
  "language_info": {
   "codemirror_mode": {
    "name": "ipython",
    "version": 3
   },
   "file_extension": ".py",
   "mimetype": "text/x-python",
   "name": "python",
   "nbconvert_exporter": "python",
   "pygments_lexer": "ipython3",
   "version": "3.10.12"
  }
 },
 "nbformat": 4,
 "nbformat_minor": 2
}
